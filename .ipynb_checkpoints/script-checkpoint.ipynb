{
 "cells": [
  {
   "cell_type": "code",
   "execution_count": null,
   "id": "84d5d43f",
   "metadata": {},
   "outputs": [],
   "source": [
    "import familiar\n",
    "from scipy.stats import ttest_1samp \n",
    "from scipy.stats import ttest_ind \n",
    "from scipy.stats import chi2_contingency\n",
    "import numpy as np\n",
    "\n",
    "vein_pack_lifespans = familiar.lifespans(package='vein')\n",
    "# print(vein_pack_lifespans)\n",
    "\n",
    "vein_pack_test = ttest_1samp(vein_pack_lifespans, 71) # performing a 1-Sample test\n",
    "test_statistic, pval = vein_pack_test\n",
    "print(pval) \n",
    "\n",
    "if pval <= 0.05:\n",
    "    print(\"The Vein Pack Is Proven To Make You Live Longer!\")\n",
    "else:\n",
    "    print(\"The Vein Pack Is Probably Good For You Somehow!\") # the pvalue is less than 0.05 therefore it prints out \"The Vein Pack Is Proven To Make You Live Longer!\"\n",
    "\n",
    "# Upselling Familiar: Pumping Life Into The Company\n",
    "\n",
    "artery_pack_lifespans = familiar.lifespans(package='artery')\n",
    "# print(artery_pack_lifespans)\n",
    "\n",
    "package_comparison_results = ttest_ind(vein_pack_lifespans, artery_pack_lifespans) # performing 2-Sample test\n",
    "test_statistic2, pval2 = package_comparison_results\n",
    "print(pval2)\n",
    "\n",
    "if pval2 <= 0.05:\n",
    "    print(\"the Artery Package guarantees even stronger results!\")\n",
    "else:\n",
    "    print(\"the Artery Package is also a great product!\")\n",
    "\n",
    "# Benefitting Everyone: A Familiar Problem\n",
    "\n",
    "iron_contingency_table = familiar.iron_counts_for_package()\n",
    "\n",
    "_, iron_pvalue, _, _ = chi2_contingency(iron_contingency_table) # performing Chi-Squared test\n",
    "print(iron_pvalue)\n",
    "\n",
    "if iron_pvalue <= 0.05:\n",
    "    print(\"The Artery Package Is Proven To Make You Healthier!\")\n",
    "# else:\n",
    "#     print(\"While We Can’t Say The Artery Package Will Help You, I Bet It’s Nice!\")\n",
    "    \n",
    "    "
   ]
  }
 ],
 "metadata": {
  "kernelspec": {
   "display_name": "Python 3",
   "language": "python",
   "name": "python3"
  },
  "language_info": {
   "codemirror_mode": {
    "name": "ipython",
    "version": 3
   },
   "file_extension": ".py",
   "mimetype": "text/x-python",
   "name": "python",
   "nbconvert_exporter": "python",
   "pygments_lexer": "ipython3",
   "version": "3.8.8"
  }
 },
 "nbformat": 4,
 "nbformat_minor": 5
}
